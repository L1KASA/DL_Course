{
  "cells": [
    {
      "cell_type": "markdown",
      "metadata": {
        "id": "view-in-github",
        "colab_type": "text"
      },
      "source": [
        "<a href=\"https://colab.research.google.com/github/L1KASA/DL_Course/blob/main/lab_4/6409_%D0%A2%D0%B0%D1%85%D0%BC%D0%B0%D0%B7%D0%BE%D0%B2%D0%B0%D0%90%D0%A8_%D0%9B%D0%A04.ipynb\" target=\"_parent\"><img src=\"https://colab.research.google.com/assets/colab-badge.svg\" alt=\"Open In Colab\"/></a>"
      ]
    },
    {
      "cell_type": "markdown",
      "metadata": {
        "id": "LIrRxpSl0tIi"
      },
      "source": [
        "# Лабораторная работа 4"
      ]
    },
    {
      "cell_type": "markdown",
      "metadata": {
        "id": "E1gDjkxY0tIk"
      },
      "source": [
        "Tensorflow 2.x\n",
        "\n",
        "1) Подготовка данных\n",
        "\n",
        "2) Использование Keras Model API\n",
        "\n",
        "3) Использование Keras Sequential + Functional API"
      ]
    },
    {
      "cell_type": "markdown",
      "metadata": {
        "id": "hNK2swTf0tIl"
      },
      "source": [
        "https://www.tensorflow.org/tutorials"
      ]
    },
    {
      "cell_type": "markdown",
      "metadata": {
        "id": "_zJ5gKiq0tIl"
      },
      "source": [
        "Для выполнения лабораторной работы необходимо установить tensorflow версии 2.0 или выше .\n",
        "\n",
        "Рекомендуется использовать возможности Colab'а по обучению моделей на GPU.\n",
        "\n"
      ]
    },
    {
      "cell_type": "code",
      "execution_count": 1,
      "metadata": {
        "id": "wjoTy3op0tIm"
      },
      "outputs": [],
      "source": [
        "import os\n",
        "import tensorflow as tf\n",
        "import numpy as np\n",
        "import math\n",
        "import timeit\n",
        "import matplotlib.pyplot as plt\n",
        "\n",
        "%matplotlib inline"
      ]
    },
    {
      "cell_type": "markdown",
      "metadata": {
        "id": "LPv1pt8r0tIn"
      },
      "source": [
        "# Подготовка данных\n",
        "Загрузите набор данных из предыдущей лабораторной работы."
      ]
    },
    {
      "cell_type": "code",
      "execution_count": 2,
      "metadata": {
        "colab": {
          "base_uri": "https://localhost:8080/"
        },
        "id": "KjXFTCiv0tIn",
        "outputId": "f54e94a3-3fe9-4cf4-f1f7-fa5a08716c39"
      },
      "outputs": [
        {
          "output_type": "stream",
          "name": "stdout",
          "text": [
            "Train data shape:  (49000, 28, 28)\n",
            "Train labels shape:  (49000,) int32\n",
            "Validation data shape:  (1000, 28, 28)\n",
            "Validation labels shape:  (1000,)\n",
            "Test data shape:  (10000, 28, 28)\n",
            "Test labels shape:  (10000,)\n"
          ]
        }
      ],
      "source": [
        "def load_data(num_training=49000, num_validation=1000, num_test=10000):\n",
        "    \"\"\"\n",
        "    Fetch the CIFAR-10 dataset from the web and perform preprocessing to prepare\n",
        "    it for the two-layer neural net classifier. These are the same steps as\n",
        "    we used for the SVM, but condensed to a single function.\n",
        "    \"\"\"\n",
        "    # Load the raw CIFAR-10 dataset and use appropriate data types and shapes\n",
        "    data = tf.keras.datasets.mnist.load_data()\n",
        "    (X_train, y_train), (X_test, y_test) = data\n",
        "    X_train = np.asarray(X_train, dtype=np.float32)\n",
        "    y_train = np.asarray(y_train, dtype=np.int32).flatten()\n",
        "    X_test = np.asarray(X_test, dtype=np.float32)\n",
        "    y_test = np.asarray(y_test, dtype=np.int32).flatten()\n",
        "\n",
        "    # Subsample the data\n",
        "    mask = range(num_training, num_training + num_validation)\n",
        "    X_val = X_train[mask]\n",
        "    y_val = y_train[mask]\n",
        "    mask = range(num_training)\n",
        "    X_train = X_train[mask]\n",
        "    y_train = y_train[mask]\n",
        "    mask = range(num_test)\n",
        "    X_test = X_test[mask]\n",
        "    y_test = y_test[mask]\n",
        "\n",
        "    # Normalize the data: subtract the mean pixel and divide by std\n",
        "    mean_pixel = X_train.mean(axis=(0, 1, 2), keepdims=True)\n",
        "    std_pixel = X_train.std(axis=(0, 1, 2), keepdims=True)\n",
        "    X_train = (X_train - mean_pixel) / std_pixel\n",
        "    X_val = (X_val - mean_pixel) / std_pixel\n",
        "    X_test = (X_test - mean_pixel) / std_pixel\n",
        "\n",
        "    return X_train, y_train, X_val, y_val, X_test, y_test\n",
        "\n",
        "# If there are errors with SSL downloading involving self-signed certificates,\n",
        "# it may be that your Python version was recently installed on the current machine.\n",
        "# See: https://github.com/tensorflow/tensorflow/issues/10779\n",
        "# To fix, run the command: /Applications/Python\\ 3.7/Install\\ Certificates.command\n",
        "#   ...replacing paths as necessary.\n",
        "\n",
        "# Invoke the above function to get our data.\n",
        "NHW = (0, 1, 2)\n",
        "X_train, y_train, X_val, y_val, X_test, y_test = load_data()\n",
        "print('Train data shape: ', X_train.shape)\n",
        "print('Train labels shape: ', y_train.shape, y_train.dtype)\n",
        "print('Validation data shape: ', X_val.shape)\n",
        "print('Validation labels shape: ', y_val.shape)\n",
        "print('Test data shape: ', X_test.shape)\n",
        "print('Test labels shape: ', y_test.shape)"
      ]
    },
    {
      "cell_type": "code",
      "execution_count": 3,
      "metadata": {
        "id": "FhFARbfF0tIp"
      },
      "outputs": [],
      "source": [
        "class Dataset(object):\n",
        "    def __init__(self, X, y, batch_size, shuffle=False):\n",
        "        \"\"\"\n",
        "        Construct a Dataset object to iterate over data X and labels y\n",
        "\n",
        "        Inputs:\n",
        "        - X: Numpy array of data, of any shape\n",
        "        - y: Numpy array of labels, of any shape but with y.shape[0] == X.shape[0]\n",
        "        - batch_size: Integer giving number of elements per minibatch\n",
        "        - shuffle: (optional) Boolean, whether to shuffle the data on each epoch\n",
        "        \"\"\"\n",
        "        assert X.shape[0] == y.shape[0], 'Got different numbers of data and labels'\n",
        "        self.X, self.y = X, y\n",
        "        self.batch_size, self.shuffle = batch_size, shuffle\n",
        "\n",
        "    def __iter__(self):\n",
        "        N, B = self.X.shape[0], self.batch_size\n",
        "        idxs = np.arange(N)\n",
        "        if self.shuffle:\n",
        "            np.random.shuffle(idxs)\n",
        "        return iter((self.X[i:i+B], self.y[i:i+B]) for i in range(0, N, B))\n",
        "\n",
        "\n",
        "X_train, y_train, X_val, y_val, X_test, y_test = load_data()\n",
        "X_train = X_train.reshape(-1, 28, 28, 1)\n",
        "X_val = X_val.reshape(-1, 28, 28, 1)\n",
        "X_test = X_test.reshape(-1, 28, 28, 1)\n",
        "train_dset = Dataset(X_train, y_train, batch_size=64, shuffle=True)\n",
        "val_dset = Dataset(X_val, y_val, batch_size=64, shuffle=False)\n",
        "test_dset = Dataset(X_test, y_test, batch_size=64)"
      ]
    },
    {
      "cell_type": "code",
      "execution_count": 4,
      "metadata": {
        "colab": {
          "base_uri": "https://localhost:8080/"
        },
        "id": "MmBMJx6J0tIq",
        "outputId": "e29294f4-c478-4cd8-9b08-0b0801a42048"
      },
      "outputs": [
        {
          "output_type": "stream",
          "name": "stdout",
          "text": [
            "0 (64, 28, 28, 1) (64,)\n",
            "1 (64, 28, 28, 1) (64,)\n",
            "2 (64, 28, 28, 1) (64,)\n",
            "3 (64, 28, 28, 1) (64,)\n",
            "4 (64, 28, 28, 1) (64,)\n",
            "5 (64, 28, 28, 1) (64,)\n",
            "6 (64, 28, 28, 1) (64,)\n"
          ]
        }
      ],
      "source": [
        "# We can iterate through a dataset like this:\n",
        "for t, (x, y) in enumerate(train_dset):\n",
        "    print(t, x.shape, y.shape)\n",
        "    if t > 5: break"
      ]
    },
    {
      "cell_type": "markdown",
      "metadata": {
        "id": "TOQMlWVm0tIq"
      },
      "source": []
    },
    {
      "cell_type": "markdown",
      "metadata": {
        "id": "wxXs1w6B0tIq"
      },
      "source": [
        "\n"
      ]
    },
    {
      "cell_type": "markdown",
      "metadata": {
        "id": "DRiI6MkP0tIr"
      },
      "source": [
        "#  Keras Model Subclassing API"
      ]
    },
    {
      "cell_type": "markdown",
      "metadata": {
        "id": "v5MBC2Mv0tIr"
      },
      "source": [
        "\n",
        "Для реализации собственной модели с помощью Keras Model Subclassing API необходимо выполнить следующие шаги:\n",
        "\n",
        "1) Определить новый класс, который является наследником tf.keras.Model.\n",
        "\n",
        "2) В методе __init__() определить все необходимые слои из модуля tf.keras.layer\n",
        "\n",
        "3) Реализовать прямой проход в методе call() на основе слоев, объявленных в __init__()\n",
        "\n",
        "Ниже приведен пример использования keras API для определения двухслойной полносвязной сети.\n",
        "\n",
        "https://www.tensorflow.org/versions/r2.0/api_docs/python/tf/keras"
      ]
    },
    {
      "cell_type": "code",
      "execution_count": 5,
      "metadata": {
        "colab": {
          "base_uri": "https://localhost:8080/"
        },
        "id": "4cm8On220tIr",
        "outputId": "a2a723bc-fbe7-4b04-8e2b-6f14ca1a73e3"
      },
      "outputs": [
        {
          "output_type": "stream",
          "name": "stdout",
          "text": [
            "(64, 10)\n"
          ]
        },
        {
          "output_type": "stream",
          "name": "stderr",
          "text": [
            "/usr/local/lib/python3.10/dist-packages/keras/src/initializers/initializers.py:120: UserWarning: The initializer VarianceScaling is unseeded and being called multiple times, which will return identical values each time (even if the initializer is unseeded). Please update your code to provide a seed to the initializer, or avoid using the same initializer instance more than once.\n",
            "  warnings.warn(\n"
          ]
        }
      ],
      "source": [
        "device = '/device:GPU:0'\n",
        "\n",
        "class TwoLayerFC(tf.keras.Model):\n",
        "    def __init__(self, hidden_size, num_classes):\n",
        "        super(TwoLayerFC, self).__init__()\n",
        "        initializer = tf.initializers.VarianceScaling(scale=2.0)\n",
        "        self.fc1 = tf.keras.layers.Dense(hidden_size, activation='relu',\n",
        "                                   kernel_initializer=initializer)\n",
        "        self.fc2 = tf.keras.layers.Dense(num_classes, activation='softmax',\n",
        "                                   kernel_initializer=initializer)\n",
        "        self.flatten = tf.keras.layers.Flatten()\n",
        "\n",
        "    def call(self, x, training=False):\n",
        "        x = self.flatten(x)\n",
        "        x = self.fc1(x)\n",
        "        x = self.fc2(x)\n",
        "        return x\n",
        "\n",
        "\n",
        "def test_TwoLayerFC():\n",
        "    \"\"\" A small unit test to exercise the TwoLayerFC model above. \"\"\"\n",
        "    input_size, hidden_size, num_classes = 50, 42, 10\n",
        "    x = tf.zeros((64, input_size))\n",
        "    model = TwoLayerFC(hidden_size, num_classes)\n",
        "    with tf.device(device):\n",
        "        scores = model(x)\n",
        "        print(scores.shape)\n",
        "\n",
        "test_TwoLayerFC()"
      ]
    },
    {
      "cell_type": "markdown",
      "metadata": {
        "id": "PX4nj5WU0tIs"
      },
      "source": [
        "Реализуйте трехслойную CNN для вашей задачи классификации.\n",
        "\n",
        "Архитектура сети:\n",
        "    \n",
        "1. Сверточный слой (5 x 5 kernels, zero-padding = 'same')\n",
        "2. Функция активации ReLU\n",
        "3. Сверточный слой (3 x 3 kernels, zero-padding = 'same')\n",
        "4. Функция активации ReLU\n",
        "5. Полносвязный слой\n",
        "6. Функция активации Softmax\n",
        "\n",
        "https://www.tensorflow.org/versions/r2.0/api_docs/python/tf/keras/layers/Conv2D\n",
        "\n",
        "https://www.tensorflow.org/versions/r2.0/api_docs/python/tf/keras/layers/Dense"
      ]
    },
    {
      "cell_type": "code",
      "execution_count": 6,
      "metadata": {
        "id": "OA93NhKP0tIs"
      },
      "outputs": [],
      "source": [
        "class ThreeLayerConvNet(tf.keras.Model):\n",
        "    def __init__(self, channel_1, channel_2, num_classes):\n",
        "        super(ThreeLayerConvNet, self).__init__()\n",
        "        ########################################################################\n",
        "        # TODO: Implement the __init__ method for a three-layer ConvNet. You   #\n",
        "        # should instantiate layer objects to be used in the forward pass.     #\n",
        "        ########################################################################\n",
        "        # *****START OF YOUR CODE (DO NOT DELETE/MODIFY THIS LINE)*****\n",
        "\n",
        "        self.conv1 = tf.keras.layers.Conv2D(channel_1, kernel_size=(5, 5), strides=(1, 1), padding='same', activation='relu')\n",
        "        self.conv2 = tf.keras.layers.Conv2D(channel_2, kernel_size=(3, 3), strides=(1, 1), padding='same', activation='relu')\n",
        "        self.flatten = tf.keras.layers.Flatten()\n",
        "        self.fc = tf.keras.layers.Dense(num_classes, activation='softmax')\n",
        "\n",
        "        # *****END OF YOUR CODE (DO NOT DELETE/MODIFY THIS LINE)*****\n",
        "        ########################################################################\n",
        "        #                           END OF YOUR CODE                           #\n",
        "        ########################################################################\n",
        "\n",
        "    def call(self, x, training=False):\n",
        "        scores = None\n",
        "        ########################################################################\n",
        "        # TODO: Implement the forward pass for a three-layer ConvNet. You      #\n",
        "        # should use the layer objects defined in the __init__ method.         #\n",
        "        ########################################################################\n",
        "        # *****START OF YOUR CODE (DO NOT DELETE/MODIFY THIS LINE)*****\n",
        "\n",
        "        x = self.conv1(x)\n",
        "        x = self.conv2(x)\n",
        "        x = self.flatten(x)\n",
        "        scores = self.fc(x)\n",
        "\n",
        "        # *****END OF YOUR CODE (DO NOT DELETE/MODIFY THIS LINE)*****\n",
        "        ########################################################################\n",
        "        #                           END OF YOUR CODE                           #\n",
        "        ########################################################################\n",
        "        return scores"
      ]
    },
    {
      "cell_type": "code",
      "execution_count": 7,
      "metadata": {
        "colab": {
          "base_uri": "https://localhost:8080/"
        },
        "id": "mSEXxFnU0tIt",
        "outputId": "425d954b-6a5d-44c7-bbf2-cdac61fbf7da"
      },
      "outputs": [
        {
          "output_type": "stream",
          "name": "stdout",
          "text": [
            "(64, 10)\n"
          ]
        }
      ],
      "source": [
        "def test_ThreeLayerConvNet():\n",
        "    channel_1, channel_2, num_classes = 12, 8, 10\n",
        "    model = ThreeLayerConvNet(channel_1, channel_2, num_classes)\n",
        "    with tf.device(device):\n",
        "        x = tf.zeros((64, 3, 32, 32))\n",
        "        scores = model(x)\n",
        "        print(scores.shape)\n",
        "\n",
        "test_ThreeLayerConvNet()"
      ]
    },
    {
      "cell_type": "markdown",
      "metadata": {
        "id": "jhCJ5Wg-0tIt"
      },
      "source": [
        "Пример реализации процесса обучения:"
      ]
    },
    {
      "cell_type": "code",
      "execution_count": 8,
      "metadata": {
        "id": "5W109djm0tIt"
      },
      "outputs": [],
      "source": [
        "print_every = 200\n",
        "\n",
        "def train_part34(model_init_fn, optimizer_init_fn, num_epochs=1, is_training=False):\n",
        "    \"\"\"\n",
        "    Simple training loop for use with models defined using tf.keras. It trains\n",
        "    a model for one epoch on the CIFAR-10 training set and periodically checks\n",
        "    accuracy on the CIFAR-10 validation set.\n",
        "\n",
        "    Inputs:\n",
        "    - model_init_fn: A function that takes no parameters; when called it\n",
        "      constructs the model we want to train: model = model_init_fn()\n",
        "    - optimizer_init_fn: A function which takes no parameters; when called it\n",
        "      constructs the Optimizer object we will use to optimize the model:\n",
        "      optimizer = optimizer_init_fn()\n",
        "    - num_epochs: The number of epochs to train for\n",
        "\n",
        "    Returns: Nothing, but prints progress during trainingn\n",
        "    \"\"\"\n",
        "    with tf.device(device):\n",
        "\n",
        "\n",
        "        loss_fn = tf.keras.losses.SparseCategoricalCrossentropy()\n",
        "\n",
        "        model = model_init_fn()\n",
        "        optimizer = optimizer_init_fn()\n",
        "\n",
        "        train_loss = tf.keras.metrics.Mean(name='train_loss')\n",
        "        train_accuracy = tf.keras.metrics.SparseCategoricalAccuracy(name='train_accuracy')\n",
        "\n",
        "        val_loss = tf.keras.metrics.Mean(name='val_loss')\n",
        "        val_accuracy = tf.keras.metrics.SparseCategoricalAccuracy(name='val_accuracy')\n",
        "\n",
        "        t = 0\n",
        "        for epoch in range(num_epochs):\n",
        "\n",
        "            # Reset the metrics - https://www.tensorflow.org/alpha/guide/migration_guide#new-style_metrics\n",
        "            train_loss.reset_states()\n",
        "            train_accuracy.reset_states()\n",
        "\n",
        "            for x_np, y_np in train_dset:\n",
        "                with tf.GradientTape() as tape:\n",
        "\n",
        "                    # Use the model function to build the forward pass.\n",
        "                    scores = model(x_np, training=is_training)\n",
        "                    loss = loss_fn(y_np, scores)\n",
        "\n",
        "                    gradients = tape.gradient(loss, model.trainable_variables)\n",
        "                    optimizer.apply_gradients(zip(gradients, model.trainable_variables))\n",
        "\n",
        "                    # Update the metrics\n",
        "                    train_loss.update_state(loss)\n",
        "                    train_accuracy.update_state(y_np, scores)\n",
        "\n",
        "                    if t % print_every == 0:\n",
        "                        val_loss.reset_states()\n",
        "                        val_accuracy.reset_states()\n",
        "                        for test_x, test_y in val_dset:\n",
        "                            # During validation at end of epoch, training set to False\n",
        "                            prediction = model(test_x, training=False)\n",
        "                            t_loss = loss_fn(test_y, prediction)\n",
        "\n",
        "                            val_loss.update_state(t_loss)\n",
        "                            val_accuracy.update_state(test_y, prediction)\n",
        "\n",
        "                        template = 'Iteration {}, Epoch {}, Loss: {}, Accuracy: {}, Val Loss: {}, Val Accuracy: {}'\n",
        "                        print (template.format(t, epoch+1,\n",
        "                                             train_loss.result(),\n",
        "                                             train_accuracy.result()*100,\n",
        "                                             val_loss.result(),\n",
        "                                             val_accuracy.result()*100))\n",
        "                    t += 1"
      ]
    },
    {
      "cell_type": "code",
      "execution_count": 9,
      "metadata": {
        "colab": {
          "base_uri": "https://localhost:8080/"
        },
        "id": "d_8T_7M50tIu",
        "outputId": "318f2501-25d9-4581-b4ba-730bb2d53077"
      },
      "outputs": [
        {
          "output_type": "stream",
          "name": "stdout",
          "text": [
            "Iteration 0, Epoch 1, Loss: 2.9707770347595215, Accuracy: 7.8125, Val Loss: 2.5538721084594727, Val Accuracy: 23.700000762939453\n",
            "Iteration 200, Epoch 1, Loss: 0.5073060393333435, Accuracy: 85.09017181396484, Val Loss: 0.44869092106819153, Val Accuracy: 86.29999542236328\n",
            "Iteration 400, Epoch 1, Loss: 0.4065001606941223, Accuracy: 88.00654602050781, Val Loss: 0.36424949765205383, Val Accuracy: 89.5\n",
            "Iteration 600, Epoch 1, Loss: 0.35976237058639526, Accuracy: 89.4186782836914, Val Loss: 0.3213493525981903, Val Accuracy: 91.0999984741211\n"
          ]
        }
      ],
      "source": [
        "hidden_size, num_classes = 4000, 10\n",
        "learning_rate = 1e-2\n",
        "\n",
        "def model_init_fn():\n",
        "    return TwoLayerFC(hidden_size, num_classes)\n",
        "\n",
        "def optimizer_init_fn():\n",
        "    return tf.keras.optimizers.SGD(learning_rate=learning_rate)\n",
        "\n",
        "train_part34(model_init_fn, optimizer_init_fn)"
      ]
    },
    {
      "cell_type": "markdown",
      "metadata": {
        "id": "7CYDJSqn0tIu"
      },
      "source": [
        "Обучите трехслойную CNN. В tf.keras.optimizers.SGD укажите Nesterov momentum = 0.9 .\n",
        "\n",
        "https://www.tensorflow.org/versions/r2.0/api_docs/python/tf/optimizers/SGD\n",
        "\n",
        "Значение accuracy на валидационной выборке после 1 эпохи обучения должно быть > 50% ."
      ]
    },
    {
      "cell_type": "code",
      "execution_count": 10,
      "metadata": {
        "colab": {
          "base_uri": "https://localhost:8080/"
        },
        "id": "IDhzj02a0tIv",
        "outputId": "177e5917-86e6-4910-f123-318f17b2b6ad"
      },
      "outputs": [
        {
          "output_type": "stream",
          "name": "stdout",
          "text": [
            "Iteration 0, Epoch 1, Loss: 2.320552349090576, Accuracy: 9.375, Val Loss: 2.292663335800171, Val Accuracy: 12.800000190734863\n",
            "Iteration 200, Epoch 1, Loss: 0.5310657024383545, Accuracy: 84.38277435302734, Val Loss: 0.4360634982585907, Val Accuracy: 86.69999694824219\n",
            "Iteration 400, Epoch 1, Loss: 0.3846120834350586, Accuracy: 88.63388061523438, Val Loss: 0.24996791779994965, Val Accuracy: 92.9000015258789\n",
            "Iteration 600, Epoch 1, Loss: 0.31245699524879456, Accuracy: 90.80699157714844, Val Loss: 0.2337530106306076, Val Accuracy: 92.69999694824219\n"
          ]
        }
      ],
      "source": [
        "learning_rate = 3e-3\n",
        "channel_1, channel_2, num_classes = 32, 16, 10\n",
        "\n",
        "def model_init_fn():\n",
        "    model = None\n",
        "    ############################################################################\n",
        "    # TODO: Complete the implementation of model_fn.                           #\n",
        "    ############################################################################\n",
        "    # *****START OF YOUR CODE (DO NOT DELETE/MODIFY THIS LINE)*****\n",
        "\n",
        "    model = ThreeLayerConvNet(channel_1, channel_2, num_classes)\n",
        "\n",
        "    # *****END OF YOUR CODE (DO NOT DELETE/MODIFY THIS LINE)*****\n",
        "    ############################################################################\n",
        "    #                           END OF YOUR CODE                               #\n",
        "    ############################################################################\n",
        "    return model\n",
        "\n",
        "def optimizer_init_fn():\n",
        "    optimizer = None\n",
        "    ############################################################################\n",
        "    # TODO: Complete the implementation of model_fn.                           #\n",
        "    ############################################################################\n",
        "    # *****START OF YOUR CODE (DO NOT DELETE/MODIFY THIS LINE)*****\n",
        "\n",
        "    optimizer = tf.keras.optimizers.SGD(learning_rate, 0.9, nesterov=True)\n",
        "\n",
        "    # *****END OF YOUR CODE (DO NOT DELETE/MODIFY THIS LINE)*****\n",
        "    ############################################################################\n",
        "    #                           END OF YOUR CODE                               #\n",
        "    ############################################################################\n",
        "    return optimizer\n",
        "\n",
        "train_part34(model_init_fn, optimizer_init_fn)"
      ]
    },
    {
      "cell_type": "markdown",
      "metadata": {
        "id": "ZvmUPF9C0tIv"
      },
      "source": [
        "# Использование Keras Sequential API для реализации последовательных моделей.\n",
        "\n",
        "Пример для полносвязной сети:"
      ]
    },
    {
      "cell_type": "code",
      "execution_count": 11,
      "metadata": {
        "id": "NlVpOXwC0tIv",
        "outputId": "d87394c3-3bc7-4122-c772-e520fd8937ab",
        "colab": {
          "base_uri": "https://localhost:8080/"
        }
      },
      "outputs": [
        {
          "output_type": "stream",
          "name": "stdout",
          "text": [
            "Iteration 0, Epoch 1, Loss: 3.3092200756073, Accuracy: 9.375, Val Loss: 2.8534798622131348, Val Accuracy: 19.30000114440918\n",
            "Iteration 200, Epoch 1, Loss: 0.5113052129745483, Accuracy: 85.01243591308594, Val Loss: 0.4549221992492676, Val Accuracy: 85.69999694824219\n",
            "Iteration 400, Epoch 1, Loss: 0.40786993503570557, Accuracy: 87.97148132324219, Val Loss: 0.36683934926986694, Val Accuracy: 89.60000610351562\n",
            "Iteration 600, Epoch 1, Loss: 0.3615171015262604, Accuracy: 89.38227844238281, Val Loss: 0.3305671811103821, Val Accuracy: 90.9000015258789\n"
          ]
        }
      ],
      "source": [
        "learning_rate = 1e-2\n",
        "\n",
        "def model_init_fn():\n",
        "    input_shape = (28, 28, 1)\n",
        "    hidden_layer_size, num_classes = 4000, 10\n",
        "    initializer = tf.initializers.VarianceScaling(scale=2.0)\n",
        "    layers = [\n",
        "        tf.keras.layers.Flatten(input_shape=input_shape),\n",
        "        tf.keras.layers.Dense(hidden_layer_size, activation='relu',\n",
        "                              kernel_initializer=initializer),\n",
        "        tf.keras.layers.Dense(num_classes, activation='softmax',\n",
        "                              kernel_initializer=initializer),\n",
        "    ]\n",
        "    model = tf.keras.Sequential(layers)\n",
        "    return model\n",
        "\n",
        "def optimizer_init_fn():\n",
        "    return tf.keras.optimizers.SGD(learning_rate=learning_rate)\n",
        "\n",
        "train_part34(model_init_fn, optimizer_init_fn)"
      ]
    },
    {
      "cell_type": "markdown",
      "metadata": {
        "id": "UfV9ITHg0tIw"
      },
      "source": [
        "Альтернативный менее гибкий способ обучения:"
      ]
    },
    {
      "cell_type": "code",
      "execution_count": 12,
      "metadata": {
        "id": "ND4ycIHn0tIw",
        "outputId": "ab2f7205-f521-4136-9f8d-97c3b2b85a7e",
        "colab": {
          "base_uri": "https://localhost:8080/"
        }
      },
      "outputs": [
        {
          "output_type": "stream",
          "name": "stdout",
          "text": [
            "766/766 [==============================] - 21s 26ms/step - loss: 0.3414 - sparse_categorical_accuracy: 0.9003 - val_loss: 0.3159 - val_sparse_categorical_accuracy: 0.9100\n",
            "313/313 [==============================] - 3s 10ms/step - loss: 0.2239 - sparse_categorical_accuracy: 0.9350\n"
          ]
        },
        {
          "output_type": "execute_result",
          "data": {
            "text/plain": [
              "[0.22392013669013977, 0.9350000023841858]"
            ]
          },
          "metadata": {},
          "execution_count": 12
        }
      ],
      "source": [
        "model = model_init_fn()\n",
        "model.compile(optimizer=tf.keras.optimizers.SGD(learning_rate=learning_rate),\n",
        "              loss='sparse_categorical_crossentropy',\n",
        "              metrics=[tf.keras.metrics.sparse_categorical_accuracy])\n",
        "model.fit(X_train, y_train, batch_size=64, epochs=1, validation_data=(X_val, y_val))\n",
        "model.evaluate(X_test, y_test)"
      ]
    },
    {
      "cell_type": "markdown",
      "metadata": {
        "id": "n_MjbY270tIw"
      },
      "source": [
        "Перепишите реализацию трехслойной CNN с помощью tf.keras.Sequential API . Обучите модель двумя способами."
      ]
    },
    {
      "cell_type": "code",
      "execution_count": 13,
      "metadata": {
        "id": "nbv3TzSz0tIx",
        "outputId": "f0d5243d-6272-49cd-d325-6ba9c35742c4",
        "colab": {
          "base_uri": "https://localhost:8080/"
        }
      },
      "outputs": [
        {
          "output_type": "stream",
          "name": "stdout",
          "text": [
            "Iteration 0, Epoch 1, Loss: 2.9222183227539062, Accuracy: 12.5, Val Loss: 2.809948682785034, Val Accuracy: 11.90000057220459\n",
            "Iteration 200, Epoch 1, Loss: 0.5595692992210388, Accuracy: 83.0768051147461, Val Loss: 0.4951278865337372, Val Accuracy: 84.30000305175781\n",
            "Iteration 400, Epoch 1, Loss: 0.42088350653648376, Accuracy: 87.25841522216797, Val Loss: 0.32914459705352783, Val Accuracy: 91.0999984741211\n",
            "Iteration 600, Epoch 1, Loss: 0.35670727491378784, Accuracy: 89.33547973632812, Val Loss: 0.2865014970302582, Val Accuracy: 91.19999694824219\n"
          ]
        }
      ],
      "source": [
        "def model_init_fn():\n",
        "    model = None\n",
        "    ############################################################################\n",
        "    # TODO: Construct a three-layer ConvNet using tf.keras.Sequential.         #\n",
        "    ############################################################################\n",
        "    # *****START OF YOUR CODE (DO NOT DELETE/MODIFY THIS LINE)*****\n",
        "\n",
        "    model = tf.keras.Sequential([\n",
        "        tf.keras.layers.Conv2D(28, (5, 5), padding='same', activation='relu', kernel_initializer=tf.initializers.VarianceScaling(scale=2.0)),\n",
        "        tf.keras.layers.Conv2D(14, (3, 3), padding='same', activation='relu', kernel_initializer=tf.initializers.VarianceScaling(scale=2.0)),\n",
        "        tf.keras.layers.Flatten(),\n",
        "        tf.keras.layers.Dense(10, activation='softmax', kernel_initializer=tf.initializers.VarianceScaling(scale=2.0))\n",
        "    ])\n",
        "\n",
        "    # *****END OF YOUR CODE (DO NOT DELETE/MODIFY THIS LINE)*****\n",
        "    ############################################################################\n",
        "    #                            END OF YOUR CODE                              #\n",
        "    ############################################################################\n",
        "    return model\n",
        "\n",
        "learning_rate = 5e-4\n",
        "def optimizer_init_fn():\n",
        "    optimizer = None\n",
        "    ############################################################################\n",
        "    # TODO: Complete the implementation of model_fn.                           #\n",
        "    ############################################################################\n",
        "    # *****START OF YOUR CODE (DO NOT DELETE/MODIFY THIS LINE)*****\n",
        "\n",
        "    optimizer = tf.keras.optimizers.SGD(learning_rate, momentum=0.9, nesterov=True)\n",
        "\n",
        "    # *****END OF YOUR CODE (DO NOT DELETE/MODIFY THIS LINE)*****\n",
        "    ############################################################################\n",
        "    #                           END OF YOUR CODE                               #\n",
        "    ############################################################################\n",
        "    return optimizer\n",
        "\n",
        "train_part34(model_init_fn, optimizer_init_fn)"
      ]
    },
    {
      "cell_type": "code",
      "execution_count": 14,
      "metadata": {
        "id": "1qcC7dCF0tIx",
        "outputId": "e54f6be3-934d-40a3-a763-2fee7fd03315",
        "colab": {
          "base_uri": "https://localhost:8080/"
        }
      },
      "outputs": [
        {
          "output_type": "stream",
          "name": "stdout",
          "text": [
            "766/766 [==============================] - 75s 97ms/step - loss: 0.2246 - sparse_categorical_accuracy: 0.9325 - val_loss: 0.1877 - val_sparse_categorical_accuracy: 0.9440\n",
            "313/313 [==============================] - 4s 14ms/step - loss: 0.1162 - sparse_categorical_accuracy: 0.9636\n"
          ]
        },
        {
          "output_type": "execute_result",
          "data": {
            "text/plain": [
              "[0.11618942767381668, 0.9635999798774719]"
            ]
          },
          "metadata": {},
          "execution_count": 14
        }
      ],
      "source": [
        "model = model_init_fn()\n",
        "model.compile(optimizer='sgd',\n",
        "              loss='sparse_categorical_crossentropy',\n",
        "              metrics=[tf.keras.metrics.sparse_categorical_accuracy])\n",
        "model.fit(X_train, y_train, batch_size=64, epochs=1, validation_data=(X_val, y_val))\n",
        "model.evaluate(X_test, y_test)"
      ]
    },
    {
      "cell_type": "markdown",
      "metadata": {
        "id": "OigWPi4l0tIx"
      },
      "source": [
        "# Использование Keras Functional API\n",
        "\n",
        "Для реализации более сложных архитектур сети с несколькими входами/выходами, повторным использованием слоев, \"остаточными\" связями (residual connections) необходимо явно указать входные и выходные тензоры.\n",
        "\n",
        "Ниже представлен пример для полносвязной сети."
      ]
    },
    {
      "cell_type": "code",
      "execution_count": 15,
      "metadata": {
        "id": "ueP0Z79u0tIy",
        "outputId": "d510e49b-6cd0-46c2-ae14-6b0041542d89",
        "colab": {
          "base_uri": "https://localhost:8080/"
        }
      },
      "outputs": [
        {
          "output_type": "stream",
          "name": "stdout",
          "text": [
            "(64, 10)\n"
          ]
        }
      ],
      "source": [
        "def two_layer_fc_functional(input_shape, hidden_size, num_classes):\n",
        "    initializer = tf.initializers.VarianceScaling(scale=2.0)\n",
        "    inputs = tf.keras.Input(shape=input_shape)\n",
        "    flattened_inputs = tf.keras.layers.Flatten()(inputs)\n",
        "    fc1_output = tf.keras.layers.Dense(hidden_size, activation='relu',\n",
        "                                 kernel_initializer=initializer)(flattened_inputs)\n",
        "    scores = tf.keras.layers.Dense(num_classes, activation='softmax',\n",
        "                             kernel_initializer=initializer)(fc1_output)\n",
        "\n",
        "    # Instantiate the model given inputs and outputs.\n",
        "    model = tf.keras.Model(inputs=inputs, outputs=scores)\n",
        "    return model\n",
        "\n",
        "def test_two_layer_fc_functional():\n",
        "    \"\"\" A small unit test to exercise the TwoLayerFC model above. \"\"\"\n",
        "    input_size, hidden_size, num_classes = 50, 42, 10\n",
        "    input_shape = (50,)\n",
        "\n",
        "    x = tf.zeros((64, input_size))\n",
        "    model = two_layer_fc_functional(input_shape, hidden_size, num_classes)\n",
        "\n",
        "    with tf.device(device):\n",
        "        scores = model(x)\n",
        "        print(scores.shape)\n",
        "\n",
        "test_two_layer_fc_functional()"
      ]
    },
    {
      "cell_type": "code",
      "execution_count": 16,
      "metadata": {
        "id": "3CBcd9Mk0tIy",
        "outputId": "76a6995e-7d28-4175-9a1d-608e3477fe8d",
        "colab": {
          "base_uri": "https://localhost:8080/"
        }
      },
      "outputs": [
        {
          "output_type": "stream",
          "name": "stdout",
          "text": [
            "Iteration 0, Epoch 1, Loss: 3.1220805644989014, Accuracy: 3.125, Val Loss: 2.8726797103881836, Val Accuracy: 27.5\n",
            "Iteration 200, Epoch 1, Loss: 0.5130127668380737, Accuracy: 85.11349487304688, Val Loss: 0.4344344735145569, Val Accuracy: 86.4000015258789\n",
            "Iteration 400, Epoch 1, Loss: 0.4109102487564087, Accuracy: 88.0377197265625, Val Loss: 0.3605281412601471, Val Accuracy: 89.20000457763672\n",
            "Iteration 600, Epoch 1, Loss: 0.3633130192756653, Accuracy: 89.40567779541016, Val Loss: 0.33132171630859375, Val Accuracy: 90.10000610351562\n"
          ]
        }
      ],
      "source": [
        "input_shape = (28, 28, 1)\n",
        "hidden_size, num_classes = 4000, 10\n",
        "learning_rate = 1e-2\n",
        "\n",
        "def model_init_fn():\n",
        "    return two_layer_fc_functional(input_shape, hidden_size, num_classes)\n",
        "\n",
        "def optimizer_init_fn():\n",
        "    return tf.keras.optimizers.SGD(learning_rate=learning_rate)\n",
        "\n",
        "train_part34(model_init_fn, optimizer_init_fn)"
      ]
    },
    {
      "cell_type": "markdown",
      "metadata": {
        "id": "QHUokgX20tIz"
      },
      "source": [
        "Поэкспериментируйте с архитектурой сверточной сети. Для вашего набора данных вам необходимо получить как минимум 70% accuracy на валидационной выборке за 10 эпох обучения. Опишите все эксперименты и сделайте выводы (без выполнения данного пункта работы приниматься не будут).\n",
        "\n",
        "Эспериментируйте с архитектурой, гиперпараметрами, функцией потерь, регуляризацией, методом оптимизации.  \n",
        "\n",
        "https://www.tensorflow.org/versions/r2.0/api_docs/python/tf/keras/layers/BatchNormalization#methods https://www.tensorflow.org/versions/r2.0/api_docs/python/tf/keras/layers/Dropout#methods"
      ]
    },
    {
      "cell_type": "code",
      "execution_count": 20,
      "metadata": {
        "id": "aRRm9AJ70tIz",
        "outputId": "3476b9bb-0090-4d95-baaf-6c4308d4b1b6",
        "colab": {
          "base_uri": "https://localhost:8080/"
        }
      },
      "outputs": [
        {
          "output_type": "stream",
          "name": "stdout",
          "text": [
            "Iteration 0, Epoch 1, Loss: 2.344405174255371, Accuracy: 9.375, Val Loss: 2.710981845855713, Val Accuracy: 23.700000762939453\n",
            "Iteration 700, Epoch 1, Loss: 0.13505315780639648, Accuracy: 95.87865447998047, Val Loss: 0.0880117267370224, Val Accuracy: 97.29999542236328\n",
            "Iteration 1400, Epoch 2, Loss: 0.038813211023807526, Accuracy: 98.8090591430664, Val Loss: 0.07429854571819305, Val Accuracy: 97.5\n",
            "Iteration 2100, Epoch 3, Loss: 0.020551087334752083, Accuracy: 99.34369659423828, Val Loss: 0.10064608603715897, Val Accuracy: 97.69999694824219\n",
            "Iteration 2800, Epoch 4, Loss: 0.011912074871361256, Accuracy: 99.63655090332031, Val Loss: 0.10644587129354477, Val Accuracy: 97.29999542236328\n",
            "Iteration 3500, Epoch 5, Loss: 0.009552106261253357, Accuracy: 99.6531753540039, Val Loss: 0.049508191645145416, Val Accuracy: 98.5999984741211\n",
            "Iteration 4200, Epoch 6, Loss: 0.009121929295361042, Accuracy: 99.65885925292969, Val Loss: 0.10220829397439957, Val Accuracy: 97.89999389648438\n",
            "Iteration 4900, Epoch 7, Loss: 0.006727481260895729, Accuracy: 99.76434326171875, Val Loss: 0.08615045249462128, Val Accuracy: 98.0999984741211\n",
            "Iteration 5600, Epoch 8, Loss: 0.0031678162049502134, Accuracy: 99.90193176269531, Val Loss: 0.08194226771593094, Val Accuracy: 98.4000015258789\n",
            "Iteration 6300, Epoch 9, Loss: 0.010616514831781387, Accuracy: 99.64775848388672, Val Loss: 0.08099871128797531, Val Accuracy: 98.19999694824219\n",
            "Iteration 7000, Epoch 10, Loss: 0.0017346927197650075, Accuracy: 99.98539733886719, Val Loss: 0.05336214229464531, Val Accuracy: 98.79999542236328\n"
          ]
        }
      ],
      "source": [
        "class CustomConvNet(tf.keras.Model):\n",
        "    def __init__(self):\n",
        "        super(CustomConvNet, self).__init__()\n",
        "        ############################################################################\n",
        "        # TODO: Construct a model that performs well on CIFAR-10                   #\n",
        "        ############################################################################\n",
        "        # *****START OF YOUR CODE (DO NOT DELETE/MODIFY THIS LINE)*****\n",
        "\n",
        "        # Определение сверточных слоев с активацией ReLU\n",
        "        self.conv1 = tf.keras.layers.Conv2D(32, (3, 3), padding='same', activation='relu')\n",
        "        self.conv2 = tf.keras.layers.Conv2D(64, (3, 3), padding='same', activation='relu')\n",
        "        self.max_pool = tf.keras.layers.MaxPooling2D(pool_size=(2, 2))\n",
        "\n",
        "        # Определение слоев полносвязной части сети\n",
        "        self.flatten = tf.keras.layers.Flatten()\n",
        "        self.fc1 = tf.keras.layers.Dense(256, activation='relu')\n",
        "        self.fc2 = tf.keras.layers.Dense(10, activation='softmax')\n",
        "\n",
        "        # *****END OF YOUR CODE (DO NOT DELETE/MODIFY THIS LINE)*****\n",
        "        ############################################################################\n",
        "        #                            END OF YOUR CODE                              #\n",
        "        ############################################################################\n",
        "\n",
        "    def call(self, input_tensor, training=False):\n",
        "        ############################################################################\n",
        "        # TODO: Construct a model that performs well on CIFAR-10                   #\n",
        "        ############################################################################\n",
        "        # *****START OF YOUR CODE (DO NOT DELETE/MODIFY THIS LINE)*****\n",
        "\n",
        "        # Применение сверточных слоев\n",
        "        x = self.conv1(input_tensor)\n",
        "        x = self.conv2(x)\n",
        "        x = self.max_pool(x)\n",
        "\n",
        "        # Применение полносвязных слоев\n",
        "        x = self.flatten(x)\n",
        "        x = self.fc1(x)\n",
        "        x = self.fc2(x)\n",
        "\n",
        "        # *****END OF YOUR CODE (DO NOT DELETE/MODIFY THIS LINE)*****\n",
        "        ############################################################################\n",
        "        #                            END OF YOUR CODE                              #\n",
        "        ############################################################################\n",
        "        return x\n",
        "\n",
        "\n",
        "\n",
        "print_every = 700\n",
        "num_epochs = 10\n",
        "\n",
        "model = CustomConvNet()\n",
        "\n",
        "def model_init_fn():\n",
        "    return CustomConvNet()\n",
        "\n",
        "def optimizer_init_fn():\n",
        "    learning_rate = 1e-3\n",
        "    return tf.keras.optimizers.Adam(learning_rate)\n",
        "\n",
        "train_part34(model_init_fn, optimizer_init_fn, num_epochs=num_epochs, is_training=True)"
      ]
    },
    {
      "cell_type": "code",
      "execution_count": 21,
      "metadata": {
        "id": "9lDFEpG70tIz",
        "outputId": "56a17e0b-da24-4b88-af52-0ff16ae4aecf",
        "colab": {
          "base_uri": "https://localhost:8080/"
        }
      },
      "outputs": [
        {
          "output_type": "stream",
          "name": "stdout",
          "text": [
            "Iteration 0, Epoch 1, Loss: 2.2825896739959717, Accuracy: 25.0, Val Loss: 2.2941088676452637, Val Accuracy: 18.099998474121094\n",
            "Iteration 700, Epoch 1, Loss: 1.2664738893508911, Accuracy: 69.70622253417969, Val Loss: 0.5560643672943115, Val Accuracy: 84.89999389648438\n",
            "Iteration 1400, Epoch 2, Loss: 0.37186968326568604, Accuracy: 89.51771545410156, Val Loss: 0.4126312732696533, Val Accuracy: 87.69999694824219\n",
            "Iteration 2100, Epoch 3, Loss: 0.2969549298286438, Accuracy: 91.4625473022461, Val Loss: 0.369508296251297, Val Accuracy: 89.70000457763672\n",
            "Iteration 2800, Epoch 4, Loss: 0.2622646987438202, Accuracy: 92.49503326416016, Val Loss: 0.3321898281574249, Val Accuracy: 90.0\n",
            "Iteration 3500, Epoch 5, Loss: 0.2319941222667694, Accuracy: 93.27803039550781, Val Loss: 0.30583885312080383, Val Accuracy: 90.9000015258789\n",
            "Iteration 4200, Epoch 6, Loss: 0.2103988528251648, Accuracy: 93.90161895751953, Val Loss: 0.28569164872169495, Val Accuracy: 91.19999694824219\n",
            "Iteration 4900, Epoch 7, Loss: 0.19322066009044647, Accuracy: 94.369873046875, Val Loss: 0.2766914665699005, Val Accuracy: 91.5999984741211\n",
            "Iteration 5600, Epoch 8, Loss: 0.18020828068256378, Accuracy: 94.75679779052734, Val Loss: 0.2571123540401459, Val Accuracy: 91.5999984741211\n",
            "Iteration 6300, Epoch 9, Loss: 0.16098304092884064, Accuracy: 95.35765838623047, Val Loss: 0.25177714228630066, Val Accuracy: 92.0\n",
            "Iteration 7000, Epoch 10, Loss: 0.1401807963848114, Accuracy: 96.15946197509766, Val Loss: 0.2368425577878952, Val Accuracy: 92.69999694824219\n"
          ]
        }
      ],
      "source": [
        "def model_init_fn():\n",
        "    return CustomConvNet()\n",
        "\n",
        "# Let's try SGD optimizer\n",
        "def optimizer_init_fn():\n",
        "    learning_rate = 1e-3\n",
        "    return tf.keras.optimizers.SGD(learning_rate)\n",
        "\n",
        "train_part34(model_init_fn, optimizer_init_fn, num_epochs=num_epochs, is_training=True)"
      ]
    },
    {
      "cell_type": "code",
      "execution_count": 28,
      "metadata": {
        "id": "HtyTN7qz0tI0"
      },
      "outputs": [],
      "source": [
        "class CustomConvNet_drp(tf.keras.Model):\n",
        "    def __init__(self):\n",
        "        super(CustomConvNet_drp, self).__init__()\n",
        "        ############################################################################\n",
        "        # TODO: Construct a model that performs well on CIFAR-10                   #\n",
        "        ############################################################################\n",
        "        # *****START OF YOUR CODE (DO NOT DELETE/MODIFY THIS LINE)*****\n",
        "\n",
        "        # Определение сверточных слоев\n",
        "        self.conv1 = tf.keras.layers.Conv2D(32, (3, 3), padding='same')\n",
        "        self.conv2 = tf.keras.layers.Conv2D(16, (3, 3), padding='same')\n",
        "\n",
        "        # Определение функций активации и слоев dropout\n",
        "        self.relu1 = tf.keras.layers.ReLU()\n",
        "        self.dropout1 = tf.keras.layers.Dropout(0.5)\n",
        "        self.relu2 = tf.keras.layers.ReLU()\n",
        "        self.dropout2 = tf.keras.layers.Dropout(0.5)\n",
        "\n",
        "        # Определение слоев полносвязной части сети\n",
        "        self.flatten = tf.keras.layers.Flatten()\n",
        "        self.dense = tf.keras.layers.Dense(10, activation='softmax')\n",
        "\n",
        "        # *****END OF YOUR CODE (DO NOT DELETE/MODIFY THIS LINE)*****\n",
        "        ############################################################################\n",
        "        #                            END OF YOUR CODE                              #\n",
        "        ############################################################################\n",
        "\n",
        "    def call(self, input_tensor, training=False):\n",
        "        ############################################################################\n",
        "        # TODO: Construct a model that performs well on CIFAR-10                   #\n",
        "        ############################################################################\n",
        "        # *****START OF YOUR CODE (DO NOT DELETE/MODIFY THIS LINE)*****\n",
        "\n",
        "        # Применение сверточных слоев\n",
        "        x = self.conv1(input_tensor)\n",
        "        x = self.relu1(x)\n",
        "        x = self.dropout1(x, training=training)\n",
        "        x = self.conv2(x)\n",
        "        x = self.relu2(x)\n",
        "        x = self.dropout2(x, training=training)\n",
        "\n",
        "        # Применение полносвязных слоев\n",
        "        x = self.flatten(x)\n",
        "        x = self.dense(x)\n",
        "\n",
        "        # *****END OF YOUR CODE (DO NOT DELETE/MODIFY THIS LINE)*****\n",
        "        ############################################################################\n",
        "        #                            END OF YOUR CODE                              #\n",
        "        ############################################################################\n",
        "        return x\n"
      ]
    },
    {
      "cell_type": "code",
      "execution_count": 29,
      "metadata": {
        "id": "tAiG7HIQ0tI0",
        "outputId": "4a5e9c78-6d14-498d-96ce-18c125576a77",
        "colab": {
          "base_uri": "https://localhost:8080/"
        }
      },
      "outputs": [
        {
          "output_type": "stream",
          "name": "stdout",
          "text": [
            "Iteration 0, Epoch 1, Loss: 2.317478656768799, Accuracy: 7.8125, Val Loss: 2.265691041946411, Val Accuracy: 19.69999885559082\n",
            "Iteration 700, Epoch 1, Loss: 0.25534796714782715, Accuracy: 92.22315979003906, Val Loss: 0.14222152531147003, Val Accuracy: 95.20000457763672\n",
            "Iteration 1400, Epoch 2, Loss: 0.0959387868642807, Accuracy: 96.96604919433594, Val Loss: 0.109047070145607, Val Accuracy: 96.9000015258789\n",
            "Iteration 2100, Epoch 3, Loss: 0.07766222208738327, Accuracy: 97.6329116821289, Val Loss: 0.11098338663578033, Val Accuracy: 96.80000305175781\n",
            "Iteration 2800, Epoch 4, Loss: 0.06602685153484344, Accuracy: 97.84107971191406, Val Loss: 0.09250353276729584, Val Accuracy: 97.0\n",
            "Iteration 3500, Epoch 5, Loss: 0.05619821697473526, Accuracy: 98.16218566894531, Val Loss: 0.08318503201007843, Val Accuracy: 97.39999389648438\n",
            "Iteration 4200, Epoch 6, Loss: 0.05103704705834389, Accuracy: 98.29009246826172, Val Loss: 0.07944213598966599, Val Accuracy: 97.39999389648438\n",
            "Iteration 4900, Epoch 7, Loss: 0.04795494303107262, Accuracy: 98.44774627685547, Val Loss: 0.08004684746265411, Val Accuracy: 97.79999542236328\n",
            "Iteration 5600, Epoch 8, Loss: 0.04395757243037224, Accuracy: 98.57479095458984, Val Loss: 0.07610213756561279, Val Accuracy: 98.0\n",
            "Iteration 6300, Epoch 9, Loss: 0.04523517191410065, Accuracy: 98.410400390625, Val Loss: 0.0787261351943016, Val Accuracy: 97.69999694824219\n",
            "Iteration 7000, Epoch 10, Loss: 0.04136497154831886, Accuracy: 98.59812927246094, Val Loss: 0.06836860626935959, Val Accuracy: 98.19999694824219\n"
          ]
        }
      ],
      "source": [
        "def model_init_fn():\n",
        "    return CustomConvNet_drp()\n",
        "\n",
        "# Let's try Adam optimizer and another architecture\n",
        "def optimizer_init_fn():\n",
        "    learning_rate = 1e-3\n",
        "    return tf.keras.optimizers.Adam(learning_rate)\n",
        "\n",
        "train_part34(model_init_fn, optimizer_init_fn, num_epochs=num_epochs, is_training=True)"
      ]
    },
    {
      "cell_type": "code",
      "execution_count": 30,
      "metadata": {
        "id": "YJ6GElRY0tI1",
        "outputId": "70e43a4f-b18c-457e-99a7-6e92a6e99d26",
        "colab": {
          "base_uri": "https://localhost:8080/"
        }
      },
      "outputs": [
        {
          "output_type": "stream",
          "name": "stdout",
          "text": [
            "Iteration 0, Epoch 1, Loss: 2.2921738624572754, Accuracy: 10.9375, Val Loss: 2.3128442764282227, Val Accuracy: 5.900000095367432\n",
            "Iteration 700, Epoch 1, Loss: 1.7358227968215942, Accuracy: 42.0938835144043, Val Loss: 0.6991236209869385, Val Accuracy: 79.5999984741211\n",
            "Iteration 1400, Epoch 2, Loss: 0.5848836302757263, Accuracy: 81.6904525756836, Val Loss: 0.4899598956108093, Val Accuracy: 86.19999694824219\n",
            "Iteration 2100, Epoch 3, Loss: 0.48626258969306946, Accuracy: 85.19332122802734, Val Loss: 0.45410043001174927, Val Accuracy: 87.30000305175781\n",
            "Iteration 2800, Epoch 4, Loss: 0.4456319212913513, Accuracy: 86.61468505859375, Val Loss: 0.42748984694480896, Val Accuracy: 88.0\n",
            "Iteration 3500, Epoch 5, Loss: 0.4155360460281372, Accuracy: 87.82537078857422, Val Loss: 0.40877705812454224, Val Accuracy: 89.0\n",
            "Iteration 4200, Epoch 6, Loss: 0.4034092426300049, Accuracy: 88.11910247802734, Val Loss: 0.3953026235103607, Val Accuracy: 89.20000457763672\n",
            "Iteration 4900, Epoch 7, Loss: 0.38591793179512024, Accuracy: 88.80123138427734, Val Loss: 0.38938823342323303, Val Accuracy: 89.20000457763672\n",
            "Iteration 5600, Epoch 8, Loss: 0.37680837512016296, Accuracy: 89.20632934570312, Val Loss: 0.38446882367134094, Val Accuracy: 89.4000015258789\n",
            "Iteration 6300, Epoch 9, Loss: 0.3446615934371948, Accuracy: 90.4443588256836, Val Loss: 0.3720434308052063, Val Accuracy: 89.60000610351562\n",
            "Iteration 7000, Epoch 10, Loss: 0.3264959156513214, Accuracy: 90.46437072753906, Val Loss: 0.3646929860115051, Val Accuracy: 90.10000610351562\n"
          ]
        }
      ],
      "source": [
        "def model_init_fn():\n",
        "    return CustomConvNet_drp()\n",
        "\n",
        "# Let's try Adam optimizer and another architecture\n",
        "def optimizer_init_fn():\n",
        "    learning_rate = 1e-3\n",
        "    return tf.keras.optimizers.SGD(learning_rate)\n",
        "\n",
        "train_part34(model_init_fn, optimizer_init_fn, num_epochs=num_epochs, is_training=True)"
      ]
    },
    {
      "cell_type": "markdown",
      "metadata": {
        "id": "gUfTqJmr0tI2"
      },
      "source": [
        "Опишите все эксперименты, результаты. Сделайте выводы."
      ]
    },
    {
      "cell_type": "markdown",
      "metadata": {
        "id": "HKt7KXMn0tI2"
      },
      "source": [
        "Основные выводы по проделанной работе:\n",
        "1. Лучше всего данные работают с моделью без Dropout слоев как с Adam, так и с SGD. Но даже так все эксперименты показали отличные результаты.\n",
        "2. В нашем случае наиболее эффективным оптимизатором оказался Adam."
      ]
    }
  ],
  "metadata": {
    "kernelspec": {
      "display_name": "Python 3",
      "language": "python",
      "name": "python3"
    },
    "language_info": {
      "codemirror_mode": {
        "name": "ipython",
        "version": 3
      },
      "file_extension": ".py",
      "mimetype": "text/x-python",
      "name": "python",
      "nbconvert_exporter": "python",
      "pygments_lexer": "ipython3",
      "version": "3.9.7"
    },
    "colab": {
      "provenance": [],
      "include_colab_link": true
    }
  },
  "nbformat": 4,
  "nbformat_minor": 0
}